{
  "nbformat": 4,
  "nbformat_minor": 5,
  "metadata": {
    "kernelspec": {
      "display_name": "Python 3",
      "language": "python",
      "name": "python3"
    },
    "language_info": {
      "codemirror_mode": {
        "name": "ipython",
        "version": 3
      },
      "file_extension": ".py",
      "mimetype": "text/x-python",
      "name": "python",
      "nbconvert_exporter": "python",
      "pygments_lexer": "ipython3",
      "version": "3.8.5"
    },
    "colab": {
      "name": "AIIM E01 - Neural Networks",
      "provenance": [],
      "include_colab_link": true
    }
  },
  "cells": [
    {
      "cell_type": "markdown",
      "metadata": {
        "id": "view-in-github",
        "colab_type": "text"
      },
      "source": [
        "<a href=\"https://colab.research.google.com/github/jmelsbach/ai-im/blob/main/notebooks/Exercises/AIIM%20E01%20-%20Image%20Classification%20with%20a%20Neural%20Network.ipynb\" target=\"_parent\"><img src=\"https://colab.research.google.com/assets/colab-badge.svg\" alt=\"Open In Colab\"/></a>"
      ]
    },
    {
      "cell_type": "markdown",
      "metadata": {
        "id": "solid-harris"
      },
      "source": [
        "![Logo Uni Köln](https://raw.githubusercontent.com/jmelsbach/ai-im/main/img/uni-logo.png)"
      ],
      "id": "solid-harris"
    },
    {
      "cell_type": "markdown",
      "metadata": {
        "id": "bright-offer"
      },
      "source": [
        "# Exercise 01 Notebook -  Image Classification with a Neural Network\n",
        "\n",
        "In this exercise you will implement a neural network from scratch using pytorch. We train the model on the fashion MNIST dataset. The Goal is to find a good architecture and hyperparameters to achieve the highest test score possible!\n",
        "\n",
        "Here are the exact steps we need to take:\n",
        "1. Download the dataset and create a dataset for training, validation and test data.\n",
        "2. Explore and understand the dataset.\n",
        "3. Create DataLoader for training, validation and test set.\n",
        "4. Create a Neural Network Architecture that fits the problem.\n",
        "5. Set the hyperparameters and choose a suitable loss function.\n",
        "6. Create a training loop\n",
        "7. Train the model"
      ],
      "id": "bright-offer"
    },
    {
      "cell_type": "markdown",
      "metadata": {
        "id": "multiple-panama"
      },
      "source": [
        "We'll use the Fashion-MNIST data set during this exercise. The Fashion-MNIST dataset consists of 60,000 training examples and a test set of 10,000 examples. Each example is a 28x28 grayscale image, associated with a label from 10 different classes:\n",
        "\n",
        "    0: \"T-Shirt\",\n",
        "    1: \"Trouser\",\n",
        "    2: \"Pullover\",\n",
        "    3: \"Dress\",\n",
        "    4: \"Coat\",\n",
        "    5: \"Sandal\",\n",
        "    6: \"Shirt\",\n",
        "    7: \"Sneaker\",\n",
        "    8: \"Bag\",\n",
        "    9: \"Ankle Boot\""
      ],
      "id": "multiple-panama"
    },
    {
      "cell_type": "markdown",
      "metadata": {
        "id": "turkish-bacteria"
      },
      "source": [
        "![Fashion MNIST Long](https://raw.githubusercontent.com/jmelsbach/ai-im/main/img/fashion-mnist_long.png)"
      ],
      "id": "turkish-bacteria"
    },
    {
      "cell_type": "code",
      "metadata": {
        "id": "respiratory-timber"
      },
      "source": [
        "# Imports\n",
        "import torch\n",
        "import torch.nn as nn\n",
        "import torchvision\n",
        "import torchvision.transforms as transforms\n",
        "import matplotlib.pyplot as plt\n",
        "\n",
        "# Library for printing out progress bars\n",
        "# This can be useful in the training loop\n",
        "# The use is optional\n",
        "from tqdm.notebook import tqdm"
      ],
      "id": "respiratory-timber",
      "execution_count": null,
      "outputs": []
    },
    {
      "cell_type": "markdown",
      "metadata": {
        "id": "assisted-palmer"
      },
      "source": [
        "## 1. Download the dataset and create a dataset for training, validation and test data.\n",
        "You can learn how to download the training dataset [here](https://pytorch.org/vision/stable/datasets.html#fashion-mnist). Use the documentation to download the training and test set of the Fashion-MNIST Dataset. Out of the box the images of the dataset have the PIL format but we need them as `torch.Tensors` to feed them in our neural network later on. <br>\n",
        "**Hint**: Use a transform to convert the PIL to the Tensor format. You can learn about transformations [here](https://pytorch.org/vision/stable/transforms.html)."
      ],
      "id": "assisted-palmer"
    },
    {
      "cell_type": "code",
      "metadata": {
        "id": "peripheral-berkeley"
      },
      "source": [
        "train_data = None\n",
        "test_data = None"
      ],
      "id": "peripheral-berkeley",
      "execution_count": null,
      "outputs": []
    },
    {
      "cell_type": "markdown",
      "metadata": {
        "id": "pressed-chambers"
      },
      "source": [
        "## 2. Explore and understand the dataset.\n",
        "If you successfully created the dataset objects, try to explore the data.\n",
        "Answer the following questions:\n",
        "* How many training examples do we have?\n",
        "* How many test examples do we have?\n",
        "* What type of datastructure is each datapoint?\n",
        "* Get the shape of the a training image. What does each dimensions mean?\n",
        "    * You notice that the shape is a little bit awkward. We'll deal with this later in the `foward()` method of our neural network\n",
        "* Do we need to normalize the data?\n",
        "* Plot a random image and the corresponding label from the dataset with the help of the `matplotlib`library."
      ],
      "id": "pressed-chambers"
    },
    {
      "cell_type": "code",
      "metadata": {
        "id": "incomplete-focus"
      },
      "source": [
        ""
      ],
      "id": "incomplete-focus",
      "execution_count": null,
      "outputs": []
    },
    {
      "cell_type": "markdown",
      "metadata": {
        "id": "resident-toner"
      },
      "source": [
        "## 3. Create DataLoader for training, validation and test set."
      ],
      "id": "resident-toner"
    },
    {
      "cell_type": "markdown",
      "metadata": {
        "id": "imposed-ticket"
      },
      "source": [
        "We do not have a validation set, yet. Split the `train_data` with the help of the `random_split`. Look at the documentation of the random_split function [here](https://pytorch.org/docs/stable/data.html#torch.utils.data.random_split). Split the data in a 80:20 train/val ratio.\n",
        "\n",
        "\n"
      ],
      "id": "imposed-ticket"
    },
    {
      "cell_type": "code",
      "metadata": {
        "id": "rotary-bench"
      },
      "source": [
        "train, val = None, None"
      ],
      "id": "rotary-bench",
      "execution_count": null,
      "outputs": []
    },
    {
      "cell_type": "markdown",
      "metadata": {
        "id": "verbal-encyclopedia"
      },
      "source": [
        "* Create a `torch.utils.data.DataLoader` for train, val and test data.\n",
        "* Use a batch size of 32.\n",
        "* Don't forget to shuffle the data!"
      ],
      "id": "verbal-encyclopedia"
    },
    {
      "cell_type": "code",
      "metadata": {
        "id": "electoral-fever"
      },
      "source": [
        "train_dl = None\n",
        "val_dl   = None\n",
        "test_dl  = None"
      ],
      "id": "electoral-fever",
      "execution_count": null,
      "outputs": []
    },
    {
      "cell_type": "markdown",
      "metadata": {
        "id": "parallel-surname"
      },
      "source": [
        "## 4. Create a Neural Network Architecture that fits the problem."
      ],
      "id": "parallel-surname"
    },
    {
      "cell_type": "markdown",
      "metadata": {
        "id": "technological-price"
      },
      "source": [
        "Create a Neural Network with two hidden layer of size 20 each. Choose the correct input and output size suitable for the problem.\n"
      ],
      "id": "technological-price"
    },
    {
      "cell_type": "code",
      "metadata": {
        "id": "hollywood-spanking"
      },
      "source": [
        "class NeuralNetwork(nn.Module):\n",
        "    \n",
        "    def __init__(self,):\n",
        "        pass\n",
        "    \n",
        "    def forward(X):\n",
        "        # We need to bring the data into a format our \n",
        "        # neural network can handle. Try to understand\n",
        "        # what the following two lines do\n",
        "        X = X.squeeze(-1)\n",
        "        X = X.reshape(X.size(0), -1)\n",
        "        # Pass the input through your layer and add sigmoid activation function\n",
        "        X = None\n",
        "        pass"
      ],
      "id": "hollywood-spanking",
      "execution_count": null,
      "outputs": []
    },
    {
      "cell_type": "markdown",
      "metadata": {
        "id": "literary-appreciation"
      },
      "source": [
        "Instantiate the `NeuralNetwork`"
      ],
      "id": "literary-appreciation"
    },
    {
      "cell_type": "code",
      "metadata": {
        "id": "alpha-wheel"
      },
      "source": [
        "model = None"
      ],
      "id": "alpha-wheel",
      "execution_count": null,
      "outputs": []
    },
    {
      "cell_type": "markdown",
      "metadata": {
        "id": "fleet-journalism"
      },
      "source": [
        "## 5. Set the hyperparameters and choose a suitable loss function."
      ],
      "id": "fleet-journalism"
    },
    {
      "cell_type": "markdown",
      "metadata": {
        "id": "duplicate-monster"
      },
      "source": [
        "Instantiate an optimizer and a loss function. Use stochastic gradient descent as your optimizer and pick a suitable loss function for the data. You can look up how to create an optimizer [here](https://pytorch.org/docs/stable/optim.html)."
      ],
      "id": "duplicate-monster"
    },
    {
      "cell_type": "code",
      "metadata": {
        "id": "hispanic-invitation"
      },
      "source": [
        "epochs = None\n",
        "lr = None\n",
        "optimizer = None\n",
        "loss_func = None"
      ],
      "id": "hispanic-invitation",
      "execution_count": null,
      "outputs": []
    },
    {
      "cell_type": "markdown",
      "metadata": {
        "id": "brown-drain"
      },
      "source": [
        "## 6. Create a training loop"
      ],
      "id": "brown-drain"
    },
    {
      "cell_type": "markdown",
      "metadata": {
        "id": "operational-mitchell"
      },
      "source": [
        "The trainig loop should receive the `net`, `train_dl`, `val_dl`, `epochs`, `optimizer`, and `loss_func`.\n",
        "Print out the average loss and the accuarcy on both the train **and** valiadtion data."
      ],
      "id": "operational-mitchell"
    },
    {
      "cell_type": "code",
      "metadata": {
        "id": "broadband-ownership"
      },
      "source": [
        "def train(net, train_dl, val_dl , epochs, optimizer, loss_func):\n",
        "    pass"
      ],
      "id": "broadband-ownership",
      "execution_count": null,
      "outputs": []
    },
    {
      "cell_type": "markdown",
      "metadata": {
        "id": "decimal-provision"
      },
      "source": [
        "## 7. Train the model"
      ],
      "id": "decimal-provision"
    },
    {
      "cell_type": "code",
      "metadata": {
        "id": "Q09oJ5HxC8YL"
      },
      "source": [
        "# To get a better idea of how well your model performs\n",
        "# you should implement an accuracy function that is\n",
        "# called after each epoch of your training loop\n"
      ],
      "id": "Q09oJ5HxC8YL",
      "execution_count": null,
      "outputs": []
    },
    {
      "cell_type": "code",
      "metadata": {
        "id": "mobile-router"
      },
      "source": [
        "# Execute the train function and train the model.\n"
      ],
      "id": "mobile-router",
      "execution_count": null,
      "outputs": []
    }
  ]
}