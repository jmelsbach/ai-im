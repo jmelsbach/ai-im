{
  "nbformat": 4,
  "nbformat_minor": 0,
  "metadata": {
    "colab": {
      "name": "Neural Network from Scratch with PyTorch",
      "provenance": [],
      "collapsed_sections": []
    },
    "kernelspec": {
      "name": "python3",
      "display_name": "Python 3"
    }
  },
  "cells": [
    {
      "cell_type": "markdown",
      "metadata": {
        "id": "HRThsIUzjQJK"
      },
      "source": [
        "# Neural Network from Scratch with Pytorch\n",
        "PyTorch is an open-source machine learning framework and is widely used in research and in production. Eventhough you are free to use tensorflow we highly recommend using PyTorch!"
      ]
    },
    {
      "source": [
        "[![Open In Colab]\n",
        "    (https://colab.research.google.com/assets/colab-badge.svg)]\n",
        "    [(https://colab.research.google.com/github/johannesmelsbach/ai-and-im/blob/main/notebooks/01%20-%20Neural%20Network.ipynb)]\n"
      ],
      "cell_type": "markdown",
      "metadata": {}
    },
    {
      "cell_type": "markdown",
      "metadata": {
        "id": "XORXq6u1ldMk"
      },
      "source": [
        "In this notebook you will learn how to create a Neural Network with Pytorch that is able classify hand-written digits and does this with an accuracy of over 97%."
      ]
    },
    {
      "cell_type": "code",
      "metadata": {
        "id": "dGJ5cjQ5I5EE"
      },
      "source": [
        "import torch\n",
        "import torch.nn as nn\n",
        "import numpy as np"
      ],
      "execution_count": null,
      "outputs": []
    },
    {
      "cell_type": "markdown",
      "metadata": {
        "id": "k2ujOmatdvKZ"
      },
      "source": [
        "There are four required building blocks when it comes to training a neural network:\n",
        "* Data\n",
        "* Model\n",
        "* Loss Function \n",
        "* Optimizer"
      ]
    },
    {
      "source": [
        "## Data\n",
        "First of all we need data to train our network on. In the real world collecting and processing data is a very time consuming process. Luckily for us the research community published a lot of high quality datasets in the past that are ready to use for us.\n",
        "\n",
        "In this notebook we will use the famous MNIST Dataset which consists of several thousand instances of handwritten digits with their coresponding labels."
      ],
      "cell_type": "code",
      "metadata": {
        "id": "54KiCaZTpmNe"
      },
      "execution_count": null,
      "outputs": []
    },
    {
      "cell_type": "markdown",
      "metadata": {
        "id": "dzne7Bb6rbLc"
      },
      "source": [
        " We download the dataset via the sklearn library. So we need to import sklearn and download the files"
      ]
    },
    {
      "cell_type": "code",
      "metadata": {
        "id": "DJPj8VMZtLgY"
      },
      "source": [
        "from sklearn.datasets import fetch_openml"
      ],
      "execution_count": null,
      "outputs": []
    },
    {
      "cell_type": "code",
      "metadata": {
        "id": "DvXy3tk7tTFo",
        "colab": {
          "base_uri": "https://localhost:8080/"
        },
        "outputId": "a346a6a0-dbef-44e6-bc20-bf422a06184d"
      },
      "source": [
        "%%time\n",
        "X, y = fetch_openml('mnist_784', version=1, return_X_y=True)"
      ],
      "execution_count": null,
      "outputs": [
        {
          "output_type": "stream",
          "text": [
            "CPU times: user 19.9 s, sys: 441 ms, total: 20.4 s\n",
            "Wall time: 20.5 s\n"
          ],
          "name": "stdout"
        }
      ]
    },
    {
      "cell_type": "markdown",
      "metadata": {
        "id": "463VuprVx0g9"
      },
      "source": [
        " We downloaded the dataset and saved created the variables `X` containing the pictures and `y` containing the labels. Let's have a closer look at the data."
      ]
    },
    {
      "cell_type": "code",
      "metadata": {
        "colab": {
          "base_uri": "https://localhost:8080/"
        },
        "id": "oWVva0tEx2Fz",
        "outputId": "b6ad9fd0-fa0c-4d80-8c1a-22e710437b4c"
      },
      "source": [
        "y.shape"
      ],
      "execution_count": null,
      "outputs": [
        {
          "output_type": "execute_result",
          "data": {
            "text/plain": [
              "(70000,)"
            ]
          },
          "metadata": {
            "tags": []
          },
          "execution_count": 5
        }
      ]
    },
    {
      "cell_type": "markdown",
      "metadata": {
        "id": "axcx7IV71srW"
      },
      "source": [
        "`.shape`\u001b is a very useful command to see the dimensions of a vector or matrix. As we can see the shape of y is `(70000,)` which basically means it is a vector with 70000 rows. This means that we have 70000 labels and therefore 70000 examples in our dataset. Let's have a look at the first label:"
      ]
    },
    {
      "cell_type": "code",
      "metadata": {
        "colab": {
          "base_uri": "https://localhost:8080/",
          "height": 37
        },
        "id": "3LdyWe9J2hC8",
        "outputId": "2a2670c4-4ef8-4bca-e217-eec4d71a98e7"
      },
      "source": [
        "y[0]"
      ],
      "execution_count": null,
      "outputs": [
        {
          "output_type": "execute_result",
          "data": {
            "application/vnd.google.colaboratory.intrinsic+json": {
              "type": "string"
            },
            "text/plain": [
              "'5'"
            ]
          },
          "metadata": {
            "tags": []
          },
          "execution_count": 6
        }
      ]
    },
    {
      "cell_type": "markdown",
      "metadata": {
        "id": "uxBSw-ad2j6D"
      },
      "source": [
        "Next we look at the pictures of the digits which are stored in the `X` variable."
      ]
    },
    {
      "cell_type": "code",
      "metadata": {
        "colab": {
          "base_uri": "https://localhost:8080/"
        },
        "id": "iFxJBd-b7T8c",
        "outputId": "8db457a8-bf13-4269-da56-4f3114dd7901"
      },
      "source": [
        "X.shape"
      ],
      "execution_count": null,
      "outputs": [
        {
          "output_type": "execute_result",
          "data": {
            "text/plain": [
              "(70000, 784)"
            ]
          },
          "metadata": {
            "tags": []
          },
          "execution_count": 7
        }
      ]
    },
    {
      "cell_type": "markdown",
      "metadata": {
        "id": "kfpDUNKz7VND"
      },
      "source": [
        "The first dimension looks familiar. We had 70000 labels so it definitly makes sense to have 70000 images as well. You might have expected a three dimensional variable here, because images are a matrix of pixels. In this dataset the pictures are flattend into vectors with 784 dimensions. The original size of the images are 28x28 Pixels. "
      ]
    },
    {
      "cell_type": "markdown",
      "metadata": {
        "id": "uEfSPsKo8bP2"
      },
      "source": [
        "If we want to look at the first picture of the dataset we have to reshape the images into a 28 by 28 matrix. We use `mathplotlib.pyplot.imshow()` to visualize the image."
      ]
    },
    {
      "cell_type": "code",
      "metadata": {
        "id": "DoBQrX3-8nX6"
      },
      "source": [
        "import matplotlib.pyplot as plt"
      ],
      "execution_count": null,
      "outputs": []
    },
    {
      "cell_type": "code",
      "metadata": {
        "colab": {
          "base_uri": "https://localhost:8080/"
        },
        "id": "icLYWWFN9Jkh",
        "outputId": "f43825cd-0087-4771-ddeb-dd85e87cb074"
      },
      "source": [
        "x0 = X[0]\n",
        "x0 = x0.reshape([28,28])\n",
        "x0.shape"
      ],
      "execution_count": null,
      "outputs": [
        {
          "output_type": "execute_result",
          "data": {
            "text/plain": [
              "(28, 28)"
            ]
          },
          "metadata": {
            "tags": []
          },
          "execution_count": 9
        }
      ]
    },
    {
      "cell_type": "markdown",
      "metadata": {
        "id": "DyNozJ67vb8r"
      },
      "source": [
        "As you can see above currently the values range from 0 to 255. In Deep Learning we almost always want to have our input values to range from 0 to 1 instead. Scaling the data is very easy:"
      ]
    },
    {
      "cell_type": "code",
      "metadata": {
        "id": "SZEa4oE5v-ye"
      },
      "source": [
        "X = X / 255.0"
      ],
      "execution_count": null,
      "outputs": []
    },
    {
      "cell_type": "code",
      "metadata": {
        "colab": {
          "base_uri": "https://localhost:8080/",
          "height": 282
        },
        "id": "oAYrsRp98utC",
        "outputId": "51afcba1-a7f7-4eba-a367-8a1cc73a24c6"
      },
      "source": [
        "plt.imshow(x0.reshape(28,28), cmap='Greys')\n",
        "# print the corresponding label\n",
        "print(\"Label: \", y[0])"
      ],
      "execution_count": null,
      "outputs": [
        {
          "output_type": "stream",
          "text": [
            "Label:  5\n"
          ],
          "name": "stdout"
        },
        {
          "output_type": "display_data",
          "data": {
            "image/png": "[encoded data removed]",
            "text/plain": [
              "<Figure size 432x288 with 1 Axes>"
            ]
          },
          "metadata": {
            "tags": [],
            "needs_background": "light"
          }
        }
      ]
    },
    {
      "cell_type": "markdown",
      "metadata": {
        "id": "FUFcifqWD800"
      },
      "source": [
        "### Datasets and Dataloaders"
      ]
    },
    {
      "cell_type": "code",
      "metadata": {
        "id": "c1z98-I7ENWo"
      },
      "source": [
        "from torch.utils.data import Dataset, DataLoader"
      ],
      "execution_count": null,
      "outputs": []
    },
    {
      "cell_type": "code",
      "metadata": {
        "id": "Z4Q8WyQOLA6-"
      },
      "source": [
        "y = y.astype('int8')"
      ],
      "execution_count": null,
      "outputs": []
    },
    {
      "cell_type": "code",
      "metadata": {
        "id": "TcOmKlbuECL5"
      },
      "source": [
        "class MNISTDataset(Dataset):\n",
        "  def __init__(self, X, y):\n",
        "    self.X = torch.tensor(X).float() / 255.\n",
        "    self.y = torch.tensor(y).long()\n",
        "\n",
        "  def __len__(self):\n",
        "    return len(self.y)\n",
        "  \n",
        "  def __getitem__(self, index):\n",
        "    return (self.X[index], self.y[index])"
      ],
      "execution_count": null,
      "outputs": []
    },
    {
      "cell_type": "code",
      "metadata": {
        "id": "jAVUKtExKRoa"
      },
      "source": [
        "mnist_data = MNISTDataset(X, y)"
      ],
      "execution_count": null,
      "outputs": []
    },
    {
      "cell_type": "code",
      "metadata": {
        "id": "aENWR3D5zSRh"
      },
      "source": [
        "mnist_dl = DataLoader(mnist_data, batch_size=8) "
      ],
      "execution_count": null,
      "outputs": []
    },
    {
      "cell_type": "code",
      "metadata": {
        "colab": {
          "base_uri": "https://localhost:8080/"
        },
        "id": "LLLce8mpzs-F",
        "outputId": "6f5a3b0e-066c-4d82-db6b-2e57ad2e8291"
      },
      "source": [
        "list(mnist_dl)[0]\n"
      ],
      "execution_count": null,
      "outputs": [
        {
          "output_type": "execute_result",
          "data": {
            "text/plain": [
              "[tensor([[0., 0., 0.,  ..., 0., 0., 0.],\n",
              "         [0., 0., 0.,  ..., 0., 0., 0.],\n",
              "         [0., 0., 0.,  ..., 0., 0., 0.],\n",
              "         ...,\n",
              "         [0., 0., 0.,  ..., 0., 0., 0.],\n",
              "         [0., 0., 0.,  ..., 0., 0., 0.],\n",
              "         [0., 0., 0.,  ..., 0., 0., 0.]]), tensor([5, 0, 4, 1, 9, 2, 1, 3])]"
            ]
          },
          "metadata": {
            "tags": []
          },
          "execution_count": 17
        }
      ]
    },
    {
      "cell_type": "code",
      "metadata": {
        "colab": {
          "base_uri": "https://localhost:8080/"
        },
        "id": "AMDEfxbsOBdW",
        "outputId": "c41d01ed-996f-46fb-b101-f78622cf4dbe"
      },
      "source": [
        "# input\n",
        "mnist_data[0][0]\n",
        "# label\n",
        "mnist_data[0][1]"
      ],
      "execution_count": null,
      "outputs": [
        {
          "output_type": "execute_result",
          "data": {
            "text/plain": [
              "tensor(5)"
            ]
          },
          "metadata": {
            "tags": []
          },
          "execution_count": 18
        }
      ]
    },
    {
      "cell_type": "markdown",
      "metadata": {
        "id": "xt9LXoqJ8ziZ"
      },
      "source": [
        "## The Neural Network"
      ]
    },
    {
      "cell_type": "code",
      "metadata": {
        "id": "HqTTBvoo15DA"
      },
      "source": [
        "import torch.nn.functional as F"
      ],
      "execution_count": null,
      "outputs": []
    },
    {
      "cell_type": "code",
      "metadata": {
        "id": "9HGwx54BlSxr"
      },
      "source": [
        "class NeuralNetworkV1(nn.Module):\n",
        "  def __init__(self):\n",
        "    super(NeuralNetworkV1, self).__init__()\n",
        "    self.l1 = nn.Linear(784,100)\n",
        "    self.l2 = nn.Linear(100, 10)\n",
        "  \n",
        "  def forward(self, X):\n",
        "    X = F.sigmoid(self.l1(X))\n",
        "    X = self.l2(X)\n",
        "    return X"
      ],
      "execution_count": null,
      "outputs": []
    },
    {
      "cell_type": "code",
      "metadata": {
        "id": "8-x1P9_EtK1d"
      },
      "source": [
        "net1 = NeuralNetworkV1()"
      ],
      "execution_count": null,
      "outputs": []
    },
    {
      "cell_type": "code",
      "metadata": {
        "colab": {
          "base_uri": "https://localhost:8080/"
        },
        "id": "hxEtVK3TtPpb",
        "outputId": "1486d3fd-e075-4989-dc3f-37fc6e1a64e5"
      },
      "source": [
        "%%time\n",
        "output = net1(mnist_data[0][0])\n",
        "print(output)\n",
        "print(output.shape)"
      ],
      "execution_count": null,
      "outputs": [
        {
          "output_type": "stream",
          "text": [
            "tensor([-0.1255, -0.5945, -0.0460,  0.1227,  0.0603,  0.2812, -0.5580, -0.0538,\n",
            "         0.1167, -0.0696], grad_fn=<AddBackward0>)\n",
            "torch.Size([10])\n",
            "CPU times: user 5.08 ms, sys: 2.09 ms, total: 7.18 ms\n",
            "Wall time: 56.9 ms\n"
          ],
          "name": "stdout"
        },
        {
          "output_type": "stream",
          "text": [
            "/usr/local/lib/python3.6/dist-packages/torch/nn/functional.py:1639: UserWarning: nn.functional.sigmoid is deprecated. Use torch.sigmoid instead.\n",
            "  warnings.warn(\"nn.functional.sigmoid is deprecated. Use torch.sigmoid instead.\")\n"
          ],
          "name": "stderr"
        }
      ]
    },
    {
      "cell_type": "markdown",
      "metadata": {
        "id": "W26Wn4yQtWej"
      },
      "source": [
        "This was one forward pass through our neural network. We get an output of shape `[10]` but of random positive and negative numbers."
      ]
    },
    {
      "cell_type": "markdown",
      "metadata": {
        "id": "qfoFbLW4qsgz"
      },
      "source": [
        "Instead of random numbers we want our network to output probabilties, where hopefully the correct number has the highest probability. We have to modify our output in a way that it outputs probabilities, which implies to properties:\n",
        "* Each output *must* be between `0` and `1`\n",
        "* All outputs have to add up to `1` in total\n"
      ]
    },
    {
      "cell_type": "markdown",
      "metadata": {
        "id": "o_1-6kfBqsI0"
      },
      "source": [
        "> 💭 Think a moment why these to properties must be true "
      ]
    },
    {
      "cell_type": "code",
      "metadata": {
        "id": "l266WhblQtg4"
      },
      "source": [
        "def softmax(x):\n",
        "  return x.exp() / x.exp().sum()"
      ],
      "execution_count": null,
      "outputs": []
    },
    {
      "cell_type": "code",
      "metadata": {
        "id": "edOm-wdgs7YM"
      },
      "source": [
        "class NeuralNetworkV2(nn.Module):\n",
        "  def __init__(self):\n",
        "    super(NeuralNetworkV2, self).__init__()\n",
        "    self.l1 = nn.Linear(784,100)\n",
        "    self.l2 = nn.Linear(100, 10)\n",
        "  \n",
        "  def forward(self, X):\n",
        "    X = F.sigmoid(self.l1(X))\n",
        "    X = self.l2(X)\n",
        "    X1 = softmax(X)\n",
        "    X = F.softmax(X, dim=0)\n",
        "    return X, X1"
      ],
      "execution_count": null,
      "outputs": []
    },
    {
      "cell_type": "markdown",
      "metadata": {
        "id": "KrjB-OlWQAWg"
      },
      "source": [
        "$$\n",
        "\\text{Softmax}(x_{i}) = \\frac{\\exp(x_i)}{\\sum_j \\exp(x_j)}\n",
        "$$"
      ]
    },
    {
      "cell_type": "code",
      "metadata": {
        "id": "5DeAK_txv9fp"
      },
      "source": [
        "net2 = NeuralNetworkV2()"
      ],
      "execution_count": null,
      "outputs": []
    },
    {
      "cell_type": "code",
      "metadata": {
        "colab": {
          "base_uri": "https://localhost:8080/"
        },
        "id": "F2iTVPDswV6Y",
        "outputId": "4e07a93c-29e4-4a30-e0e9-95071efc5d50"
      },
      "source": [
        "%%time\n",
        "output = net2(torch.tensor(X[0]).float() / 256)\n",
        "print(output[0], output[1])"
      ],
      "execution_count": null,
      "outputs": [
        {
          "output_type": "stream",
          "text": [
            "tensor([0.0865, 0.1059, 0.0775, 0.1482, 0.0686, 0.0872, 0.0925, 0.0629, 0.1212,\n",
            "        0.1495], grad_fn=<SoftmaxBackward>) tensor([0.0865, 0.1059, 0.0775, 0.1482, 0.0686, 0.0872, 0.0925, 0.0629, 0.1212,\n",
            "        0.1495], grad_fn=<DivBackward0>)\n",
            "CPU times: user 5.05 ms, sys: 1.01 ms, total: 6.06 ms\n",
            "Wall time: 45.2 ms\n"
          ],
          "name": "stdout"
        },
        {
          "output_type": "stream",
          "text": [
            "/usr/local/lib/python3.6/dist-packages/torch/nn/functional.py:1639: UserWarning: nn.functional.sigmoid is deprecated. Use torch.sigmoid instead.\n",
            "  warnings.warn(\"nn.functional.sigmoid is deprecated. Use torch.sigmoid instead.\")\n"
          ],
          "name": "stderr"
        }
      ]
    },
    {
      "cell_type": "code",
      "metadata": {
        "id": "AyfwxqV4wdmC"
      },
      "source": [
        "# Throws an AssertError if the condition is not true\n",
        "assert 1.0 == output[0].sum()"
      ],
      "execution_count": null,
      "outputs": []
    },
    {
      "cell_type": "markdown",
      "metadata": {
        "id": "tFc8s4KGwhK8"
      },
      "source": [
        "As you can see we reached our goal. Every output is a number between zero and one and all outputs add up to 1. However, all outputs probabilities are about the same at about `0.1`. Which basically means that our network has no idea which digit is shown here. And how should it? It hasn't learned anything yet."
      ]
    },
    {
      "cell_type": "markdown",
      "metadata": {
        "id": "np86sSe8uF-W"
      },
      "source": [
        "## Loss Function"
      ]
    },
    {
      "cell_type": "markdown",
      "metadata": {
        "id": "CPThpxBeuLmV"
      },
      "source": [
        "We need a way to see how good or how bad our neural net is doing."
      ]
    }
  ]
}