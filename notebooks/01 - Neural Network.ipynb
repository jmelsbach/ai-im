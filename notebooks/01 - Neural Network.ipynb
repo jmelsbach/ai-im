{
 "cells": [
  {
   "cell_type": "markdown",
   "metadata": {},
   "source": [
    "[![Open In Colab](https://colab.research.google.com/assets/colab-badge.svg)](https://colab.research.google.com/github/johannesmelsbach/ai-im/blob/main/notebooks/01%20-%20Neural%20Network.ipynb)"
   ]
  },
  {
   "cell_type": "markdown",
   "metadata": {},
   "source": [
    "![Logo Uni Köln](https://webmail.uni-koeln.de/themes/unikoeln/graphics/UzK_mittel.png)"
   ]
  },
  {
   "cell_type": "markdown",
   "metadata": {
    "id": "HRThsIUzjQJK"
   },
   "source": [
    "# A simple Neural Network with Pytorch\n",
    "PyTorch is an open-source machine learning framework and is widely used in research and in production."
   ]
  },
  {
   "cell_type": "markdown",
   "metadata": {
    "id": "XORXq6u1ldMk"
   },
   "source": [
    "In this notebook you will learn how to create a Neural Network with Pytorch that is able classify hand-written digits and does this with an accuracy of over 97%."
   ]
  },
  {
   "cell_type": "code",
   "execution_count": 1,
   "metadata": {
    "id": "dGJ5cjQ5I5EE"
   },
   "outputs": [],
   "source": [
    "import torch\n",
    "import torch.nn as nn\n",
    "import numpy as np"
   ]
  },
  {
   "cell_type": "markdown",
   "metadata": {
    "id": "k2ujOmatdvKZ"
   },
   "source": [
    "There are four required building blocks when it comes to training a neural network:\n",
    "* Data\n",
    "* Model\n",
    "* Loss Function \n",
    "* Optimizer"
   ]
  },
  {
   "cell_type": "markdown",
   "metadata": {
    "id": "54KiCaZTpmNe"
   },
   "source": [
    "## Data\n",
    "First of all we need data to train our network on. In the real world collecting and processing data is a very time consuming process. Luckily for us the research community published a lot of high quality datasets in the past that are ready to use for us.\n",
    "\n",
    "In this notebook we will use the famous MNIST Dataset which consists of several thousand instances of handwritten digits with their coresponding labels."
   ]
  },
  {
   "cell_type": "markdown",
   "metadata": {
    "id": "dzne7Bb6rbLc"
   },
   "source": [
    " We download the dataset via the sklearn library. So we need to import sklearn and download the files"
   ]
  },
  {
   "cell_type": "code",
   "execution_count": 2,
   "metadata": {
    "id": "DJPj8VMZtLgY"
   },
   "outputs": [],
   "source": [
    "from sklearn.datasets import fetch_openml"
   ]
  },
  {
   "cell_type": "code",
   "execution_count": 3,
   "metadata": {
    "colab": {
     "base_uri": "https://localhost:8080/"
    },
    "id": "DvXy3tk7tTFo",
    "outputId": "a346a6a0-dbef-44e6-bc20-bf422a06184d"
   },
   "outputs": [
    {
     "name": "stdout",
     "output_type": "stream",
     "text": [
      "CPU times: user 11.5 s, sys: 66 ms, total: 11.5 s\n",
      "Wall time: 11.5 s\n"
     ]
    }
   ],
   "source": [
    "%%time\n",
    "X, y = fetch_openml('mnist_784', version=1, return_X_y=True)"
   ]
  },
  {
   "cell_type": "markdown",
   "metadata": {
    "id": "463VuprVx0g9"
   },
   "source": [
    " We downloaded the dataset and saved created the variables `X` containing the pictures and `y` containing the labels. Let's have a closer look at the data."
   ]
  },
  {
   "cell_type": "code",
   "execution_count": 4,
   "metadata": {
    "colab": {
     "base_uri": "https://localhost:8080/"
    },
    "id": "oWVva0tEx2Fz",
    "outputId": "b6ad9fd0-fa0c-4d80-8c1a-22e710437b4c"
   },
   "outputs": [
    {
     "data": {
      "text/plain": [
       "(70000,)"
      ]
     },
     "execution_count": 4,
     "metadata": {},
     "output_type": "execute_result"
    }
   ],
   "source": [
    "y.shape"
   ]
  },
  {
   "cell_type": "markdown",
   "metadata": {
    "id": "axcx7IV71srW"
   },
   "source": [
    "`.shape` is a very useful command to see the dimensions of a vector or matrix. As we can see the shape of y is `(70000,)` which basically means it is a vector with 70000 rows. This means that we have 70000 labels and therefore 70000 examples in our dataset. Let's have a look at the first label:"
   ]
  },
  {
   "cell_type": "code",
   "execution_count": 5,
   "metadata": {
    "colab": {
     "base_uri": "https://localhost:8080/",
     "height": 37
    },
    "id": "3LdyWe9J2hC8",
    "outputId": "2a2670c4-4ef8-4bca-e217-eec4d71a98e7"
   },
   "outputs": [
    {
     "data": {
      "text/plain": [
       "'5'"
      ]
     },
     "execution_count": 5,
     "metadata": {},
     "output_type": "execute_result"
    }
   ],
   "source": [
    "y[0]"
   ]
  },
  {
   "cell_type": "markdown",
   "metadata": {
    "id": "uxBSw-ad2j6D"
   },
   "source": [
    "Next we look at the pictures of the digits which are stored in the `X` variable."
   ]
  },
  {
   "cell_type": "code",
   "execution_count": 6,
   "metadata": {
    "colab": {
     "base_uri": "https://localhost:8080/"
    },
    "id": "iFxJBd-b7T8c",
    "outputId": "8db457a8-bf13-4269-da56-4f3114dd7901"
   },
   "outputs": [
    {
     "data": {
      "text/plain": [
       "(70000, 784)"
      ]
     },
     "execution_count": 6,
     "metadata": {},
     "output_type": "execute_result"
    }
   ],
   "source": [
    "X.shape"
   ]
  },
  {
   "cell_type": "markdown",
   "metadata": {
    "id": "kfpDUNKz7VND"
   },
   "source": [
    "The first dimension looks familiar. We had 70000 labels so it definitly makes sense to have 70000 images as well. You might have expected a three dimensional variable here, because images are a matrix of pixels. In this dataset the pictures are flattend into vectors with 784 dimensions. The original size of the images are 28x28 Pixels. "
   ]
  },
  {
   "cell_type": "markdown",
   "metadata": {
    "id": "uEfSPsKo8bP2"
   },
   "source": [
    "If we want to look at the first picture of the dataset we have to reshape the images into a 28 by 28 matrix. We use `mathplotlib.pyplot.imshow()` to visualize the image."
   ]
  },
  {
   "cell_type": "code",
   "execution_count": 7,
   "metadata": {
    "id": "DoBQrX3-8nX6"
   },
   "outputs": [],
   "source": [
    "import matplotlib.pyplot as plt"
   ]
  },
  {
   "cell_type": "code",
   "execution_count": 8,
   "metadata": {
    "colab": {
     "base_uri": "https://localhost:8080/"
    },
    "id": "icLYWWFN9Jkh",
    "outputId": "f43825cd-0087-4771-ddeb-dd85e87cb074"
   },
   "outputs": [
    {
     "data": {
      "text/plain": [
       "(28, 28)"
      ]
     },
     "execution_count": 8,
     "metadata": {},
     "output_type": "execute_result"
    }
   ],
   "source": [
    "x0 = X[0]\n",
    "x0 = x0.reshape([28,28])\n",
    "x0.shape"
   ]
  },
  {
   "cell_type": "markdown",
   "metadata": {
    "id": "DyNozJ67vb8r"
   },
   "source": [
    "As you can see above currently the values range from 0 to 255. In Deep Learning we almost always want to have our input values to range from 0 to 1 instead. Scaling the data is very easy:"
   ]
  },
  {
   "cell_type": "code",
   "execution_count": 9,
   "metadata": {
    "id": "SZEa4oE5v-ye"
   },
   "outputs": [],
   "source": [
    "X = X / 255.0"
   ]
  },
  {
   "cell_type": "code",
   "execution_count": 10,
   "metadata": {
    "colab": {
     "base_uri": "https://localhost:8080/",
     "height": 282
    },
    "id": "oAYrsRp98utC",
    "outputId": "51afcba1-a7f7-4eba-a367-8a1cc73a24c6"
   },
   "outputs": [
    {
     "name": "stdout",
     "output_type": "stream",
     "text": [
      "Label:  5\n"
     ]
    },
    {
     "data": {
      "image/png": "[encoded data removed]",
      "text/plain": [
       "<Figure size 432x288 with 1 Axes>"
      ]
     },
     "metadata": {
      "needs_background": "light"
     },
     "output_type": "display_data"
    }
   ],
   "source": [
    "plt.imshow(x0.reshape(28,28), cmap='Greys')\n",
    "# print the corresponding label\n",
    "print(\"Label: \", y[0])"
   ]
  },
  {
   "cell_type": "markdown",
   "metadata": {
    "id": "FUFcifqWD800"
   },
   "source": [
    "### Datasets and Dataloaders"
   ]
  },
  {
   "cell_type": "code",
   "execution_count": 11,
   "metadata": {
    "id": "c1z98-I7ENWo"
   },
   "outputs": [],
   "source": [
    "from torch.utils.data import Dataset, DataLoader\n",
    "from sklearn.model_selection import train_test_split"
   ]
  },
  {
   "cell_type": "code",
   "execution_count": 12,
   "metadata": {
    "id": "Z4Q8WyQOLA6-"
   },
   "outputs": [],
   "source": [
    "y = y.astype('int8')"
   ]
  },
  {
   "cell_type": "code",
   "execution_count": 13,
   "metadata": {
    "id": "TcOmKlbuECL5"
   },
   "outputs": [],
   "source": [
    "class MNISTDataset(Dataset):\n",
    "    def __init__(self, X, y):\n",
    "        self.X = torch.tensor(X).float() / 255.\n",
    "        self.y = torch.tensor(y).long()\n",
    "\n",
    "    def __len__(self):\n",
    "        return len(self.y)\n",
    "  \n",
    "    def __getitem__(self, index):\n",
    "        return (self.X[index], self.y[index])"
   ]
  },
  {
   "cell_type": "code",
   "execution_count": 14,
   "metadata": {},
   "outputs": [],
   "source": [
    "X_train, X_test, y_train, y_test = train_test_split(X,y)"
   ]
  },
  {
   "cell_type": "code",
   "execution_count": 15,
   "metadata": {
    "id": "jAVUKtExKRoa"
   },
   "outputs": [],
   "source": [
    "mnist_train = MNISTDataset(X_train, y_train)"
   ]
  },
  {
   "cell_type": "code",
   "execution_count": 16,
   "metadata": {},
   "outputs": [],
   "source": [
    "mnist_test = MNISTDataset(X_test, y_test)"
   ]
  },
  {
   "cell_type": "code",
   "execution_count": 17,
   "metadata": {
    "id": "aENWR3D5zSRh"
   },
   "outputs": [],
   "source": [
    "train_dl = DataLoader(mnist_train, batch_size=128) "
   ]
  },
  {
   "cell_type": "code",
   "execution_count": 18,
   "metadata": {},
   "outputs": [],
   "source": [
    "test_dl = DataLoader(mnist_test, batch_size=128)"
   ]
  },
  {
   "cell_type": "markdown",
   "metadata": {
    "id": "xt9LXoqJ8ziZ"
   },
   "source": [
    "## The Neural Network"
   ]
  },
  {
   "cell_type": "code",
   "execution_count": 19,
   "metadata": {
    "id": "HqTTBvoo15DA"
   },
   "outputs": [],
   "source": [
    "import torch.nn.functional as F"
   ]
  },
  {
   "cell_type": "code",
   "execution_count": 20,
   "metadata": {
    "id": "9HGwx54BlSxr"
   },
   "outputs": [],
   "source": [
    "class NeuralNetworkV1(nn.Module):\n",
    "    def __init__(self):\n",
    "        super(NeuralNetworkV1, self).__init__()\n",
    "        self.l1 = nn.Linear(784,500)\n",
    "        self.l2 = nn.Linear(500, 10)\n",
    "\n",
    "    def forward(self, X):\n",
    "        X = F.relu(self.l1(X))\n",
    "        X = self.l2(X)\n",
    "        return X"
   ]
  },
  {
   "cell_type": "code",
   "execution_count": 21,
   "metadata": {
    "id": "8-x1P9_EtK1d"
   },
   "outputs": [],
   "source": [
    "net1 = NeuralNetworkV1()"
   ]
  },
  {
   "cell_type": "code",
   "execution_count": 22,
   "metadata": {
    "colab": {
     "base_uri": "https://localhost:8080/"
    },
    "id": "hxEtVK3TtPpb",
    "outputId": "1486d3fd-e075-4989-dc3f-37fc6e1a64e5"
   },
   "outputs": [
    {
     "name": "stdout",
     "output_type": "stream",
     "text": [
      "tensor([ 0.0071,  0.0309, -0.0272,  0.0306,  0.0446,  0.0228, -0.0031,  0.0337,\n",
      "         0.0177, -0.0013], grad_fn=<AddBackward0>)\n",
      "torch.Size([10])\n",
      "CPU times: user 3.52 ms, sys: 0 ns, total: 3.52 ms\n",
      "Wall time: 1.98 ms\n"
     ]
    }
   ],
   "source": [
    "%%time\n",
    "output = net1(mnist_train[0][0])\n",
    "print(output)\n",
    "print(output.shape)"
   ]
  },
  {
   "cell_type": "markdown",
   "metadata": {
    "id": "W26Wn4yQtWej"
   },
   "source": [
    "This was one forward pass through our neural network. We get an output of shape `[10]` but of quite random positive and negative numbers."
   ]
  },
  {
   "cell_type": "markdown",
   "metadata": {
    "id": "qfoFbLW4qsgz"
   },
   "source": [
    "Instead of random numbers we want our network to output a probability distribution, where hopefully the correct number has the highest probability. We have to modify our output in a way that it outputs probabilities, which implies to properties:\n",
    "1. Each output *must* be between `0` and `1`\n",
    "2. All outputs have to add up to `1` in total\n"
   ]
  },
  {
   "cell_type": "markdown",
   "metadata": {
    "id": "o_1-6kfBqsI0"
   },
   "source": [
    "💭 Think a moment why all outputs have to add up to `1` in our the digit classification example."
   ]
  },
  {
   "cell_type": "code",
   "execution_count": 23,
   "metadata": {
    "id": "l266WhblQtg4"
   },
   "outputs": [],
   "source": [
    "def softmax(x):\n",
    "    return x.exp() / x.exp().sum()"
   ]
  },
  {
   "cell_type": "code",
   "execution_count": 24,
   "metadata": {
    "id": "edOm-wdgs7YM"
   },
   "outputs": [],
   "source": [
    "class NeuralNetworkV2(nn.Module):\n",
    "    def __init__(self):\n",
    "        super(NeuralNetworkV2, self).__init__()\n",
    "        self.l1 = nn.Linear(784,200)\n",
    "        self.l2 = nn.Linear(200, 10)\n",
    "\n",
    "\n",
    "    def forward(self, X):\n",
    "        X = F.sigmoid(self.l1(X))\n",
    "        X = self.l2(X)\n",
    "        \n",
    "        return X"
   ]
  },
  {
   "cell_type": "markdown",
   "metadata": {
    "id": "KrjB-OlWQAWg"
   },
   "source": [
    "$$\n",
    "\\text{Softmax}(x_{i}) = \\frac{\\exp(x_i)}{\\sum_j \\exp(x_j)}\n",
    "$$"
   ]
  },
  {
   "cell_type": "code",
   "execution_count": 25,
   "metadata": {
    "id": "5DeAK_txv9fp"
   },
   "outputs": [],
   "source": [
    "net2 = NeuralNetworkV2()"
   ]
  },
  {
   "cell_type": "code",
   "execution_count": 26,
   "metadata": {
    "colab": {
     "base_uri": "https://localhost:8080/"
    },
    "id": "F2iTVPDswV6Y",
    "outputId": "4e07a93c-29e4-4a30-e0e9-95071efc5d50"
   },
   "outputs": [
    {
     "name": "stdout",
     "output_type": "stream",
     "text": [
      "CPU times: user 2.15 ms, sys: 97 µs, total: 2.25 ms\n",
      "Wall time: 1.3 ms\n"
     ]
    },
    {
     "name": "stderr",
     "output_type": "stream",
     "text": [
      "/home/johannes/miniconda3/lib/python3.8/site-packages/torch/nn/functional.py:1639: UserWarning: nn.functional.sigmoid is deprecated. Use torch.sigmoid instead.\n",
      "  warnings.warn(\"nn.functional.sigmoid is deprecated. Use torch.sigmoid instead.\")\n"
     ]
    },
    {
     "data": {
      "text/plain": [
       "tensor([ 0.5441,  0.0806, -0.1505, -0.2918,  0.2872, -0.2501,  0.0257,  0.2772,\n",
       "        -0.0252, -0.3018], grad_fn=<AddBackward0>)"
      ]
     },
     "execution_count": 26,
     "metadata": {},
     "output_type": "execute_result"
    }
   ],
   "source": [
    "%%time\n",
    "output = net2(torch.tensor(X[0]).float() / 256)\n",
    "output"
   ]
  },
  {
   "cell_type": "markdown",
   "metadata": {
    "id": "tFc8s4KGwhK8"
   },
   "source": [
    "As you can see we reached our goal. Every output is a number between zero and one and all outputs add up to 1. However, all outputs probabilities are about the same at about `0.1`. Which basically means that our network has no idea which digit is shown here. And how should it? It hasn't learned anything yet."
   ]
  },
  {
   "cell_type": "markdown",
   "metadata": {
    "id": "np86sSe8uF-W"
   },
   "source": [
    "## Loss Function"
   ]
  },
  {
   "cell_type": "markdown",
   "metadata": {
    "id": "CPThpxBeuLmV"
   },
   "source": [
    "We need a way to see how good or how bad our neural net is doing. When you take a look in the documentation of the `nn.CrossEntropyLoss()`"
   ]
  },
  {
   "cell_type": "code",
   "execution_count": 27,
   "metadata": {},
   "outputs": [],
   "source": [
    "loss_func = nn.CrossEntropyLoss()"
   ]
  },
  {
   "cell_type": "markdown",
   "metadata": {},
   "source": [
    "## Optimizer"
   ]
  },
  {
   "cell_type": "code",
   "execution_count": 28,
   "metadata": {},
   "outputs": [],
   "source": [
    "from torch import optim"
   ]
  },
  {
   "cell_type": "code",
   "execution_count": 29,
   "metadata": {},
   "outputs": [],
   "source": [
    "optimizer = optim.Adam(net2.parameters(), lr=0.001)"
   ]
  },
  {
   "cell_type": "markdown",
   "metadata": {},
   "source": [
    "## Training Loop"
   ]
  },
  {
   "cell_type": "code",
   "execution_count": 30,
   "metadata": {},
   "outputs": [],
   "source": [
    "def accuracy(out, yb):\n",
    "    preds = torch.argmax(out, dim=1)\n",
    "    return (preds == yb).float().mean()"
   ]
  },
  {
   "cell_type": "code",
   "execution_count": 31,
   "metadata": {},
   "outputs": [],
   "source": [
    "epochs = 100"
   ]
  },
  {
   "cell_type": "code",
   "execution_count": 32,
   "metadata": {},
   "outputs": [
    {
     "name": "stdout",
     "output_type": "stream",
     "text": [
      "train_acc: 0.14842990040779114\n",
      "val_acc: 0.29243195056915283\n",
      "train_acc: 0.3338845670223236\n",
      "val_acc: 0.3561815619468689\n",
      "train_acc: 0.5017715692520142\n",
      "val_acc: 0.5528775453567505\n",
      "train_acc: 0.6194038987159729\n",
      "val_acc: 0.6510607004165649\n",
      "train_acc: 0.7010074853897095\n",
      "val_acc: 0.7181202173233032\n",
      "train_acc: 0.7552083134651184\n",
      "val_acc: 0.7623596787452698\n",
      "train_acc: 0.7901725769042969\n",
      "val_acc: 0.7943509817123413\n",
      "train_acc: 0.813819169998169\n",
      "val_acc: 0.8168984055519104\n",
      "train_acc: 0.8307861685752869\n",
      "val_acc: 0.8331283926963806\n",
      "train_acc: 0.8431417346000671\n",
      "val_acc: 0.8455252647399902\n",
      "train_acc: 0.8532162308692932\n",
      "val_acc: 0.8543865084648132\n",
      "train_acc: 0.8627014756202698\n",
      "val_acc: 0.8629403114318848\n",
      "train_acc: 0.8697232007980347\n",
      "val_acc: 0.8692924976348877\n",
      "train_acc: 0.8752927184104919\n",
      "val_acc: 0.8735347390174866\n",
      "train_acc: 0.8798167109489441\n",
      "val_acc: 0.876807451248169\n",
      "train_acc: 0.8837894797325134\n",
      "val_acc: 0.8800008893013\n",
      "train_acc: 0.8869335651397705\n",
      "val_acc: 0.8838785886764526\n",
      "train_acc: 0.8899369239807129\n",
      "val_acc: 0.8876423239707947\n",
      "train_acc: 0.8922369480133057\n",
      "val_acc: 0.8900597095489502\n",
      "train_acc: 0.8944419026374817\n",
      "val_acc: 0.8915076851844788\n",
      "train_acc: 0.8960956931114197\n",
      "val_acc: 0.8933895230293274\n",
      "train_acc: 0.8982056379318237\n",
      "val_acc: 0.8951572775840759\n",
      "train_acc: 0.899638831615448\n",
      "val_acc: 0.8966399431228638\n",
      "train_acc: 0.9009314179420471\n",
      "val_acc: 0.8976664543151855\n",
      "train_acc: 0.9022430181503296\n",
      "val_acc: 0.8987498879432678\n",
      "train_acc: 0.9031553864479065\n",
      "val_acc: 0.8994342088699341\n",
      "train_acc: 0.9041248559951782\n",
      "val_acc: 0.9005747437477112\n",
      "train_acc: 0.9049232006072998\n",
      "val_acc: 0.9011672735214233\n",
      "train_acc: 0.9059686660766602\n",
      "val_acc: 0.902057409286499\n",
      "train_acc: 0.9068240523338318\n",
      "val_acc: 0.9028210043907166\n",
      "train_acc: 0.907755434513092\n",
      "val_acc: 0.9037904143333435\n",
      "train_acc: 0.9082686901092529\n",
      "val_acc: 0.9045317769050598\n",
      "train_acc: 0.9092571139335632\n",
      "val_acc: 0.9053301215171814\n",
      "train_acc: 0.9097703695297241\n",
      "val_acc: 0.906128466129303\n",
      "train_acc: 0.9103976488113403\n",
      "val_acc: 0.9062995910644531\n",
      "train_acc: 0.9110059142112732\n",
      "val_acc: 0.9065276384353638\n",
      "train_acc: 0.9118613004684448\n",
      "val_acc: 0.9068698287010193\n",
      "train_acc: 0.9122414588928223\n",
      "val_acc: 0.9080326557159424\n",
      "train_acc: 0.9125646352767944\n",
      "val_acc: 0.9087740182876587\n",
      "train_acc: 0.9131919145584106\n",
      "val_acc: 0.9097434282302856\n",
      "train_acc: 0.9137621521949768\n",
      "val_acc: 0.909857451915741\n",
      "train_acc: 0.914237380027771\n",
      "val_acc: 0.9107698798179626\n",
      "train_acc: 0.9146365523338318\n",
      "val_acc: 0.910940945148468\n",
      "train_acc: 0.9150167107582092\n",
      "val_acc: 0.9111120700836182\n",
      "train_acc: 0.9152828454971313\n",
      "val_acc: 0.9110550284385681\n",
      "train_acc: 0.915567934513092\n",
      "val_acc: 0.9114542007446289\n",
      "train_acc: 0.9160431623458862\n",
      "val_acc: 0.9119104146957397\n",
      "train_acc: 0.9164613485336304\n",
      "val_acc: 0.911967396736145\n",
      "train_acc: 0.9166704416275024\n",
      "val_acc: 0.9123095870018005\n",
      "train_acc: 0.9168605208396912\n",
      "val_acc: 0.9124236106872559\n",
      "train_acc: 0.917012631893158\n",
      "val_acc: 0.9127658009529114\n",
      "train_acc: 0.917259693145752\n",
      "val_acc: 0.9132789969444275\n",
      "train_acc: 0.9175068140029907\n",
      "val_acc: 0.9134500622749329\n",
      "train_acc: 0.9179820418357849\n",
      "val_acc: 0.9139062762260437\n",
      "train_acc: 0.9182862043380737\n",
      "val_acc: 0.9139633178710938\n",
      "train_acc: 0.9185903072357178\n",
      "val_acc: 0.9139633178710938\n",
      "train_acc: 0.9188184142112732\n",
      "val_acc: 0.9139633178710938\n",
      "train_acc: 0.9188944697380066\n",
      "val_acc: 0.9141914248466492\n",
      "train_acc: 0.919065535068512\n",
      "val_acc: 0.9140773415565491\n",
      "train_acc: 0.9192366003990173\n",
      "val_acc: 0.9143054485321045\n",
      "train_acc: 0.9194837212562561\n",
      "val_acc: 0.9143054485321045\n",
      "train_acc: 0.9195787310600281\n",
      "val_acc: 0.91464763879776\n",
      "train_acc: 0.9198258519172668\n",
      "val_acc: 0.9147046208381653\n",
      "train_acc: 0.9200539588928223\n",
      "val_acc: 0.9149327278137207\n",
      "train_acc: 0.9202630519866943\n",
      "val_acc: 0.9151038527488708\n",
      "train_acc: 0.9205482006072998\n",
      "val_acc: 0.9151038527488708\n",
      "train_acc: 0.9205862283706665\n",
      "val_acc: 0.9152178764343262\n",
      "train_acc: 0.9206052422523499\n",
      "val_acc: 0.9152178764343262\n",
      "train_acc: 0.9210120439529419\n",
      "val_acc: 0.9154459834098816\n",
      "train_acc: 0.9211831092834473\n",
      "val_acc: 0.9153889417648315\n",
      "train_acc: 0.9212971925735474\n",
      "val_acc: 0.9153889417648315\n",
      "train_acc: 0.921373188495636\n",
      "val_acc: 0.915674090385437\n",
      "train_acc: 0.9216583371162415\n",
      "val_acc: 0.9159021973609924\n",
      "train_acc: 0.9218864440917969\n",
      "val_acc: 0.9158451557159424\n",
      "train_acc: 0.9219434857368469\n",
      "val_acc: 0.9159592390060425\n",
      "train_acc: 0.9219244718551636\n",
      "val_acc: 0.9159021973609924\n",
      "train_acc: 0.922095537185669\n",
      "val_acc: 0.9161303043365479\n",
      "train_acc: 0.9221715331077576\n",
      "val_acc: 0.9162443280220032\n",
      "train_acc: 0.9223236441612244\n",
      "val_acc: 0.9163584113121033\n",
      "train_acc: 0.9224756956100464\n",
      "val_acc: 0.9163584113121033\n",
      "train_acc: 0.9226467609405518\n",
      "val_acc: 0.916700541973114\n",
      "train_acc: 0.9227988719940186\n",
      "val_acc: 0.916700541973114\n",
      "train_acc: 0.9229699373245239\n",
      "val_acc: 0.9165294766426086\n",
      "train_acc: 0.9231600165367126\n",
      "val_acc: 0.9165865182876587\n",
      "train_acc: 0.9232930541038513\n",
      "val_acc: 0.916700541973114\n",
      "train_acc: 0.9233691096305847\n",
      "val_acc: 0.9167352318763733\n",
      "train_acc: 0.9235591888427734\n",
      "val_acc: 0.9167352318763733\n",
      "train_acc: 0.9237872958183289\n",
      "val_acc: 0.9167352318763733\n",
      "train_acc: 0.9239963889122009\n",
      "val_acc: 0.9168493151664734\n",
      "train_acc: 0.924205482006073\n",
      "val_acc: 0.9171914458274841\n",
      "train_acc: 0.9243765473365784\n",
      "val_acc: 0.9171914458274841\n",
      "train_acc: 0.9244145750999451\n",
      "val_acc: 0.9173054695129395\n",
      "train_acc: 0.9246046543121338\n",
      "val_acc: 0.9175335764884949\n",
      "train_acc: 0.9246807098388672\n",
      "val_acc: 0.917647659778595\n",
      "train_acc: 0.9248137474060059\n",
      "val_acc: 0.9178187251091003\n",
      "train_acc: 0.9249277710914612\n",
      "val_acc: 0.9182749390602112\n",
      "train_acc: 0.9250418543815613\n",
      "val_acc: 0.9184460043907166\n",
      "train_acc: 0.9251558780670166\n",
      "val_acc: 0.9186170697212219\n",
      "train_acc: 0.9251939058303833\n",
      "val_acc: 0.9185600280761719\n",
      "train_acc: 0.9252889752388\n",
      "val_acc: 0.9187881350517273\n"
     ]
    }
   ],
   "source": [
    "for epoch in range(epochs):\n",
    "    net2.train()\n",
    "    total_loss = 0\n",
    "    train_acc = 0\n",
    "    for inputs, labels in train_dl:\n",
    "        \n",
    "        preds = net2(inputs)\n",
    "        loss = loss_func(preds, labels)\n",
    "        loss.backward()\n",
    "        optimizer.step()\n",
    "        optimizer.zero_grad()\n",
    "        total_loss += loss\n",
    "        train_acc += accuracy(preds, labels)\n",
    "        \n",
    "    \n",
    "    net2.eval()\n",
    "    train_acc /= len(train_dl)\n",
    "    print(f\"train_acc: {train_acc}\")\n",
    "    #print(f\"Train Loss: {total_loss}\")\n",
    "    with torch.no_grad():\n",
    "        val_acc = 0\n",
    "        for inputs_test, labels_test in test_dl:\n",
    "            val_acc += accuracy(net2(inputs_test), labels_test)\n",
    "        val_acc /= len(test_dl)\n",
    "        print(f\"val_acc: {val_acc}\")"
   ]
  },
  {
   "cell_type": "code",
   "execution_count": null,
   "metadata": {},
   "outputs": [],
   "source": [
    "accuracy(net2(mnist_test[0:8][0]), mnist_test[0:8][1])"
   ]
  },
  {
   "cell_type": "code",
   "execution_count": null,
   "metadata": {},
   "outputs": [],
   "source": [
    "mnist_test[0:8][0]"
   ]
  },
  {
   "cell_type": "code",
   "execution_count": null,
   "metadata": {},
   "outputs": [],
   "source": [
    "mnist_test[0:8][1]"
   ]
  },
  {
   "cell_type": "code",
   "execution_count": null,
   "metadata": {},
   "outputs": [],
   "source": [
    "len(test_dl)"
   ]
  },
  {
   "cell_type": "code",
   "execution_count": null,
   "metadata": {},
   "outputs": [],
   "source": []
  }
 ],
 "metadata": {
  "colab": {
   "collapsed_sections": [],
   "name": "Neural Network from Scratch with PyTorch",
   "provenance": []
  },
  "kernelspec": {
   "display_name": "Python 3",
   "language": "python",
   "name": "python3"
  },
  "language_info": {
   "codemirror_mode": {
    "name": "ipython",
    "version": 3
   },
   "file_extension": ".py",
   "mimetype": "text/x-python",
   "name": "python",
   "nbconvert_exporter": "python",
   "pygments_lexer": "ipython3",
   "version": "3.8.5"
  }
 },
 "nbformat": 4,
 "nbformat_minor": 1
}
